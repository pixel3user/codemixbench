{
 "cells": [
  {
   "cell_type": "markdown",
   "metadata": {},
   "source": [
    "# Dataset evaluation using GAME validation scores for prompts."
   ]
  },
  {
   "cell_type": "markdown",
   "metadata": {},
   "source": [
    "## Imports & Dependencies\n",
    "\n",
    "Load all required libraries for dataset processing, translation, and semantic evaluation. You won't be needing any specialized hardware for this notebook."
   ]
  },
  {
   "cell_type": "code",
   "execution_count": 2,
   "metadata": {},
   "outputs": [
    {
     "name": "stderr",
     "output_type": "stream",
     "text": [
      "/home/zeus/miniconda3/envs/cloudspace/lib/python3.11/site-packages/tqdm/auto.py:21: TqdmWarning: IProgress not found. Please update jupyter and ipywidgets. See https://ipywidgets.readthedocs.io/en/stable/user_install.html\n",
      "  from .autonotebook import tqdm as notebook_tqdm\n"
     ]
    }
   ],
   "source": [
    "import os\n",
    "import time\n",
    "import re\n",
    "import string\n",
    "import pandas as pd\n",
    "from tqdm import tqdm\n",
    "from google import genai\n",
    "from sentence_transformers import util\n",
    "from datasets import load_dataset, Dataset\n",
    "from concurrent.futures import ThreadPoolExecutor, as_completed"
   ]
  },
  {
   "cell_type": "markdown",
   "metadata": {},
   "source": [
    "Creating a checkpoint folder for saving checkpoints of processed prompts.\n",
    "This lets us resume the augmentation pipeline without re-running completed prompts."
   ]
  },
  {
   "cell_type": "code",
   "execution_count": null,
   "metadata": {},
   "outputs": [],
   "source": [
    "# mkdir checkpoint/ # Commented out since the folder already exists"
   ]
  },
  {
   "cell_type": "markdown",
   "metadata": {},
   "source": [
    "## Model & Translator Initialization\n",
    "\n",
    "1. **`SentenceTransformer('all-MiniLM-L6-v2')`**  \n",
    "   - Used for back-translation → embeddings → **GAME** semantic fidelity (Sec. 3.3).  \n",
    "2. **Gemini Translator** (`genai`)  \n",
    "   - Handles matrix-language translation, dictionary construction, and romanization (Sec. 3.2).\n",
    "   - Use your gemini api key to access gemini api."
   ]
  },
  {
   "cell_type": "code",
   "execution_count": 4,
   "metadata": {},
   "outputs": [],
   "source": [
    "# Load Sentence Transformer model for semantic similarity\n",
    "similarity_model = SentenceTransformer('all-MiniLM-L6-v2')\n",
    "\n",
    "# Initialize Gemini Translator\n",
    "\n",
    "client = genai.Client(api_key=\"api_key\")"
   ]
  },
  {
   "cell_type": "markdown",
   "metadata": {},
   "source": [
    "Default backtranslation prompt used for gemini. "
   ]
  },
  {
   "cell_type": "code",
   "execution_count": null,
   "metadata": {},
   "outputs": [],
   "source": [
    "def get_prompt(processed_cand_cm_romanized, matrix_lang_code):\n",
    "    pmt = f\"\"\"I will give you a text in {matrix_lang_code} and english below:-\n",
    "------------------------\n",
    "{processed_cand_cm_romanized}\n",
    "------------------------\n",
    "you have to follow these steps below to translate the text into english.\n",
    "1. First translate the sentence exactly into non roman {matrix_lang_code} representation of characters.\n",
    "2. Now translate the sentence into its english translation and remember it as SE.\n",
    "3. Now for the sentences that are english words and are common in both the SE in step 2 and the original text, POS tag them.\n",
    "4. Now remembering the POS tags of words, translate the original sentence into {matrix_lang_code} remembering the meaning of POS words and cross-language homonyms.\n",
    "5. Now translate the final {matrix_lang_code} sentence in step 4 to its english translation.\n",
    "\n",
    "Only give me the translated sentence in step 5 as your response in this template below so that i can extract the sentence using regular expression\n",
    "*****Final Translated Sentence*****\n",
    "[put the final sentence from step 5.]\n",
    "*****End*****\n",
    "\"\"\"\n",
    "    return pmt\n",
    "\n",
    "model_name = \"gemini-2.0-flash-lite\""
   ]
  },
  {
   "cell_type": "markdown",
   "metadata": {},
   "source": [
    "## Utility Functions\n",
    "\n",
    "This cell defines core helper routines used in the **GAME** semantic-fidelity pipeline (Sec. 3.3) and the validation prompt format (App. 8.4) in *CodeMixBench*\n",
    "\n",
    "---\n",
    "\n",
    "### `preprocess(text)` \n",
    "- Strip out code fences (```…```)  \n",
    "- Lowercase, remove punctuation, collapse whitespace  \n",
    "\n",
    "---\n",
    "\n",
    "### `extract_translated_sentence(text)`\n",
    "- Extract the “Final Translated Sentence” from the LLM’s back-translation output using the markers  \n",
    "    ```\n",
    "    *****Final Translated Sentence*****\n",
    "    …text…\n",
    "    *****End*****\n",
    "    ``` \n",
    "\n",
    "---\n",
    "\n",
    "### `get_semantic_similarity(text1, text2)`\n",
    "- Encode inputs via `SentenceTransformer` (all-MiniLM-L6-v2)  \n",
    "- Compute cosine similarity, clamped to [–1, 1] \n",
    "---\n",
    "\n",
    "### `log_error(entry, msg)`\n",
    "- Print or persist any errors encountered during evaluation (e.g., parsing or model failures) \n"
   ]
  },
  {
   "cell_type": "code",
   "execution_count": 13,
   "metadata": {},
   "outputs": [],
   "source": [
    "# --- Utility Functions ---\n",
    "def preprocess(text):\n",
    "    if not isinstance(text, str):\n",
    "        return \"\"\n",
    "    \n",
    "    # Remove any ```code fences``` including multiline content\n",
    "    code_block_pattern = r'```.*?```'\n",
    "    text = re.sub(code_block_pattern, '', text, flags=re.DOTALL)\n",
    "\n",
    "    # Convert to lowercase for consistent embedding behavior\n",
    "    text = text.lower()\n",
    "\n",
    "    # Remove all punctuation characters\n",
    "    text = text.translate(str.maketrans('', '', string.punctuation))\n",
    "    return re.sub(r'\\s+', ' ', text).strip()\n",
    "\n",
    "def extract_translated_sentence(text):\n",
    "    \"\"\"\n",
    "    Extract the back-translated English sentence from the LLM output.\n",
    "    Looks for markers:\n",
    "      *****Final Translated Sentence*****\n",
    "      ...sentence...\n",
    "      *****End*****\n",
    "    Returns None if the pattern is not found.\n",
    "    \"\"\"\n",
    "\n",
    "    pattern = r\"\\*{5}Final Translated Sentence\\*{5}\\s*(.*?)\\s*\\*{5}End\\*{5}\"\n",
    "    match = re.search(pattern, text, re.DOTALL)\n",
    "    return match.group(1).strip() if match else None\n",
    "\n",
    "def get_semantic_similarity(text1, text2):\n",
    "    \"\"\"\n",
    "    Compute cosine similarity between two texts using a SentenceTransformer model.\n",
    "    - Returns 0.0 if either input is empty or on any error.\n",
    "    - Clamps similarity to the range [-1.0, 1.0].\n",
    "    \"\"\"\n",
    "    if not text1 or not text2:\n",
    "        return 0.0\n",
    "    try:\n",
    "        # Encode and normalize embeddings\n",
    "        emb1 = similarity_model.encode(text1, convert_to_tensor=True, normalize_embeddings=True)\n",
    "        emb2 = similarity_model.encode(text2, convert_to_tensor=True, normalize_embeddings=True)\n",
    "        # Compute cosine similarity\n",
    "        sim = util.pytorch_cos_sim(emb1, emb2)\n",
    "        \n",
    "        return max(-1.0, min(1.0, sim.item()))\n",
    "    except Exception as e:\n",
    "        print(f\"Similarity Calculation Error: {e}\")\n",
    "        return 0.0\n",
    "\n",
    "def log_error(entry, msg):\n",
    "    # with open(ERROR_LOG_FILE, \"a\", encoding=\"utf-8\") as f:\n",
    "    #     f.write(json.dumps({\"error\": msg, \"entry\": entry}, ensure_ascii=False) + \"\\n\")\n",
    "    print({\"error\": msg, \"entry\": entry})\n"
   ]
  },
  {
   "cell_type": "markdown",
   "metadata": {},
   "source": [
    "## GAME Evaluation Class\n",
    "\n",
    "Implements the **GAME** semantic-fidelity metric pipeline (Sec. 3.3) from *CodeMixBench*"
   ]
  },
  {
   "cell_type": "code",
   "execution_count": null,
   "metadata": {},
   "outputs": [],
   "source": [
    "class GAME:\n",
    "    \"\"\"\n",
    "    Implements the GAME (Gold-standard Agnostic Measure for Evaluation) semantic-fidelity pipeline.\n",
    "    Back-translates a romanized code-mixed prompt to English and computes cosine similarity\n",
    "    against the original English reference, returning a score in [0, 100].\n",
    "    \"\"\"\n",
    "\n",
    "    def __init__(self, matrix_lang_code='hindi'):\n",
    "        \"\"\"\n",
    "        Args:\n",
    "            matrix_lang_code (str): Code of the matrix language used in the prompt\n",
    "                                    (e.g. 'hindi', 'spanish', 'chinese').\n",
    "        \"\"\"\n",
    "        # Store the target language for constructing the back-translation prompt\n",
    "        self.matrix_lang_code = matrix_lang_code\n",
    "\n",
    "    def evaluate(self, reference_en, candidate_cm_romanized):\n",
    "        \"\"\"\n",
    "        Perform GAME evaluation for one prompt pair.\n",
    "\n",
    "        Steps:\n",
    "          1. Preprocess both reference and candidate to normalize text.\n",
    "          2. If either is empty after preprocessing, return 0.0 (failure).\n",
    "          3. Call the translation API to convert the romanized candidate back to English.\n",
    "          4. Extract the “Final Translated Sentence” from the API response.\n",
    "          5. If extraction fails, return 0.0.\n",
    "          6. Compute embedding-based cosine similarity.\n",
    "          7. Scale to percentage (0–100) and return.\n",
    "\n",
    "        Returns:\n",
    "            float: GAME score (0–100). Zero on any error or missing data.\n",
    "        \"\"\"\n",
    "        try:\n",
    "            processed_ref = preprocess(reference_en)\n",
    "            processed_cand = preprocess(candidate_cm_romanized)\n",
    "\n",
    "            if not processed_ref or not processed_cand:\n",
    "                return 0.0\n",
    "\n",
    "            # Generate back-translation via the LLM\n",
    "            response = client.models.generate_content(\n",
    "                model=model_name, contents=get_prompt(processed_cand, self.matrix_lang_code)\n",
    "            )\n",
    "\n",
    "            # Parse out the translated sentence from the response\n",
    "            reconstructed = extract_translated_sentence(response.text)\n",
    "            if not reconstructed:\n",
    "                return 0.0\n",
    "\n",
    "            # Compute semantic similarity between original and back-translated text\n",
    "            sim_score = get_semantic_similarity(processed_ref, reconstructed)\n",
    "            \n",
    "            # Return similarity as a percentage\n",
    "            return max(0.0, sim_score) * 100\n",
    "\n",
    "        except Exception as e:\n",
    "            return 0.0"
   ]
  },
  {
   "cell_type": "code",
   "execution_count": null,
   "metadata": {},
   "outputs": [],
   "source": [
    "\n",
    "# --- Main Execution with Checkpoint and Rate Limiting ---\n",
    "def compare_datasets_with_checkpointing(dataset_en_path, dataset_cm_path, matrix_lang, split='train'):\n",
    "    ds_en = load_dataset(dataset_en_path, split=\"v0.1.4\")\n",
    "    \n",
    "    ds_cm = pd.read_parquet(dataset_cm_path)\n",
    "\n",
    "    if os.path.exists(CHECKPOINT_FILE):\n",
    "        checkpoint_df = pd.read_parquet(CHECKPOINT_FILE)\n",
    "        processed_indices = set(checkpoint_df['index'])\n",
    "    else:\n",
    "        checkpoint_df = pd.DataFrame(columns=['index', 'score'])\n",
    "        processed_indices = set()\n",
    "\n",
    "    all_scores = []\n",
    "    failed = 0\n",
    "    game = GAME(matrix_lang)\n",
    "\n",
    "    indices = [i for i in range(len(ds_cm)) if i not in processed_indices]\n",
    "    progress_bar = tqdm(total=len(indices), desc=\"Processing Entries\")\n",
    "    elapsed_times = []\n",
    "\n",
    "    for i in range(0, len(indices), BATCH_SIZE):\n",
    "        batch_indices = indices[i:i+BATCH_SIZE]\n",
    "        start_time = time.time()\n",
    "\n",
    "        with ThreadPoolExecutor(max_workers=BATCH_SIZE) as executor:\n",
    "            futures = {\n",
    "                executor.submit(\n",
    "                    game.evaluate,\n",
    "                    ds_en[j]['instruct_prompt'],\n",
    "                    \n",
    "                    ds_cm.iloc[j]['instruct_prompt']\n",
    "                ): j for j in batch_indices\n",
    "            }\n",
    "\n",
    "            for future in as_completed(futures):\n",
    "                j = futures[future]\n",
    "                try:\n",
    "                    score = future.result()\n",
    "                    all_scores.append(score)\n",
    "                    checkpoint_df.loc[len(checkpoint_df)] = {'index': j, 'score': score}\n",
    "                    checkpoint_df.to_parquet(CHECKPOINT_FILE, index=False)\n",
    "                    progress_bar.update(1)\n",
    "                except Exception as e:\n",
    "                    log_error({'index': j}, f\"Evaluation Error: {e}\")\n",
    "                    failed += 1\n",
    "\n",
    "        # Enforce rate limiting\n",
    "        elapsed = time.time() - start_time\n",
    "        sleep_time = max(0, ONE_MINUTE - elapsed)\n",
    "        if sleep_time > 0:\n",
    "            print(f\"Waiting {sleep_time:.2f} seconds before next batch...\")\n",
    "            time.sleep(sleep_time)\n",
    "\n",
    "    progress_bar.close()\n",
    "    avg_score = sum(all_scores) / len(all_scores) if all_scores else 0.0\n",
    "\n",
    "    print(\"\\n--- Evaluation Complete ---\")\n",
    "    print(f\"Matrix Language: {matrix_lang}\")\n",
    "    print(f\"Entries processed: {len(all_scores)}\")\n",
    "    print(f\"Failed evaluations: {failed}\")\n",
    "    print(f\"Average GAME Score: {avg_score:.2f}\")\n",
    "\n",
    "    return all_scores, avg_score, failed"
   ]
  },
  {
   "cell_type": "markdown",
   "metadata": {},
   "source": [
    "## Main Execution: Checkpointing & Rate Limiting\n",
    "\n",
    "This cell orchestrates the **GAME** evaluation over the entire code-mixed dataset, with resume-on-failure via checkpoints and enforced rate limits, following the pipeline described in Sec. 3.2.1 (Implementation Pipeline) and Sec. 3.3 (Semantic Quality Verification) of _CodeMixBench_"
   ]
  },
  {
   "cell_type": "code",
   "execution_count": null,
   "metadata": {},
   "outputs": [],
   "source": [
    "# # --- Configuration ---\n",
    "# Using the specified HF dataset names\n",
    "ENGLISH_DATASET_PATH = \"bigcode/bigcodebench\"\n",
    "CODE_MIXED_DATASET_PATH = \"../dataset/spa-eng/MBigCodeBench-spa-eng-cmd0.9.parquet\"\n",
    "MATRIX_LANGUAGE = \"Spanish\" \n",
    "DATASET_SPLIT = 'train' \n",
    "\n",
    "# --- Configuration for Checkpoint and Rate Limiting ---\n",
    "ONE_MINUTE = 60\n",
    "BATCH_SIZE = 15\n",
    "CHECKPOINT_FILE = \"checkpoint/game_scores_checkpoint.parquet\"\n",
    "ERROR_LOG_FILE = \"checkpoint/game_error_log.txt\"\n",
    "\n",
    "# Define similarity model, model_name, and client before using this code\n",
    "\n",
    "try:\n",
    "     game_scores, avg_score, failed_score = compare_datasets_with_checkpointing(\n",
    "         ENGLISH_DATASET_PATH,\n",
    "         CODE_MIXED_DATASET_PATH,\n",
    "         matrix_lang=MATRIX_LANGUAGE,\n",
    "         split=DATASET_SPLIT,\n",
    "     )\n",
    "     # print(\"\\nIndividual Scores:\", scores) # Uncomment to see all scores\n",
    "except FileNotFoundError:\n",
    "     print(\"\\nError: One or both datasets could not be loaded from Hugging Face Hub.\")\n",
    "     print(\"Please ensure the dataset identifiers and your internet connection are correct.\")\n",
    "except ValueError as ve:\n",
    "     print(f\"\\nValueError during dataset loading or processing: {ve}\")\n",
    "     print(\"This might indicate an issue with the dataset structure, split name, or configuration name.\")\n",
    "except Exception as e:\n",
    "     print(f\"\\nAn unexpected error occurred: {e}\")\n",
    "     # Optionally add more detailed error logging here\n",
    "     import traceback\n",
    "     traceback.print_exc()"
   ]
  },
  {
   "cell_type": "markdown",
   "metadata": {},
   "source": [
    "## Data Visualization"
   ]
  },
  {
   "cell_type": "code",
   "execution_count": 23,
   "metadata": {},
   "outputs": [
    {
     "name": "stdout",
     "output_type": "stream",
     "text": [
      "\n",
      "--- Evaluation Summary ---\n",
      "Matrix Language: Spanish\n",
      "Number of entries processed: 2\n",
      "Number of failed/skipped evaluations: 0\n",
      "Average GAME Score (over all processed): 89.36\n"
     ]
    },
    {
     "data": {
      "image/png": "[encoded data removed]",
      "text/plain": [
       "<Figure size 1000x500 with 1 Axes>"
      ]
     },
     "metadata": {},
     "output_type": "display_data"
    }
   ],
   "source": [
    "print(\"\\n--- Evaluation Summary ---\")\n",
    "print(f\"Matrix Language: Spanish\")\n",
    "print(f\"Number of entries processed: {len(game_scores)}\")\n",
    "print(f\"Number of failed/skipped evaluations: {failed_score}\")\n",
    "print(f\"Average GAME Score (over all processed): {avg_score:.2f}\")\n",
    "\n",
    "\n",
    "try:\n",
    "    import matplotlib.pyplot as plt\n",
    "    import numpy as np\n",
    "    plt.figure(figsize=(10, 5))\n",
    "    plt.hist(np.array(game_scores), bins=20, range=(0, 100)) # Ensure scores are within 0-100 range for plot\n",
    "    plt.title(f\"Distribution of GAME Scores (Matrix Lang: Spanish)\")\n",
    "    plt.xlabel(\"GAME Score (0-100)\")\n",
    "    plt.ylabel(\"Frequency\")\n",
    "    plt.grid(axis='y', alpha=0.75)\n",
    "    plt.show()\n",
    "except ImportError:\n",
    "    print(\"\\nInstall matplotlib to see the score distribution plot: pip install matplotlib numpy\")"
   ]
  },
  {
   "cell_type": "code",
   "execution_count": 31,
   "metadata": {},
   "outputs": [
    {
     "name": "stdout",
     "output_type": "stream",
     "text": [
      "   index      score\n",
      "0      0  95.747286\n"
     ]
    }
   ],
   "source": [
    "df = pd.read_parquet(CHECKPOINT_FILE)\n",
    "print(df.head(1))"
   ]
  },
  {
   "cell_type": "code",
   "execution_count": 32,
   "metadata": {},
   "outputs": [
    {
     "name": "stdout",
     "output_type": "stream",
     "text": [
      "\n",
      "--- Evaluation Summary ---\n",
      "Matrix Language: Spanish\n",
      "Number of entries processed: 1137\n",
      "Number of failed/skipped evaluations: 1\n",
      "Average GAME Score (over all processed): 89.38\n"
     ]
    },
    {
     "data": {
      "image/png": "[encoded data removed]",
      "text/plain": [
       "<Figure size 1000x500 with 1 Axes>"
      ]
     },
     "metadata": {},
     "output_type": "display_data"
    }
   ],
   "source": [
    "# Calculate values\n",
    "total_entries = len(df)\n",
    "failed_score = (df[\"score\"] == 0).sum()\n",
    "processed_scores = df[df[\"score\"] > 0][\"score\"]\n",
    "avg_score = processed_scores.mean()\n",
    "\n",
    "# Print summary\n",
    "print(\"\\n--- Evaluation Summary ---\")\n",
    "print(f\"Matrix Language: Spanish\")\n",
    "print(f\"Number of entries processed: {total_entries}\")\n",
    "print(f\"Number of failed/skipped evaluations: {failed_score}\")\n",
    "print(f\"Average GAME Score (over all processed): {avg_score:.2f}\")\n",
    "\n",
    "# Plot distribution\n",
    "plt.figure(figsize=(10, 5))\n",
    "plt.hist(processed_scores, bins=20, range=(0, 100))\n",
    "plt.title(f\"Distribution of GAME Scores (Matrix Lang: Spanish)\")\n",
    "plt.xlabel(\"GAME Score (0-100)\")\n",
    "plt.ylabel(\"Frequency\")\n",
    "plt.grid(axis='y', alpha=0.75)\n",
    "plt.show()\n"
   ]
  },
  {
   "cell_type": "code",
   "execution_count": 33,
   "metadata": {},
   "outputs": [
    {
     "data": {
      "text/plain": [
       "1136"
      ]
     },
     "execution_count": 33,
     "metadata": {},
     "output_type": "execute_result"
    }
   ],
   "source": [
    "df = df[df['score'] != 0]\n",
    "len(df)"
   ]
  },
  {
   "cell_type": "code",
   "execution_count": 34,
   "metadata": {},
   "outputs": [],
   "source": [
    "df.to_parquet(CHECKPOINT_FILE)"
   ]
  }
 ],
 "metadata": {
  "language_info": {
   "name": "python"
  }
 },
 "nbformat": 4,
 "nbformat_minor": 2
}
