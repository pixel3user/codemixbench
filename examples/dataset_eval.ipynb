{
 "cells": [
  {
   "cell_type": "code",
   "execution_count": 2,
   "metadata": {},
   "outputs": [
    {
     "name": "stderr",
     "output_type": "stream",
     "text": [
      "/home/zeus/miniconda3/envs/cloudspace/lib/python3.11/site-packages/tqdm/auto.py:21: TqdmWarning: IProgress not found. Please update jupyter and ipywidgets. See https://ipywidgets.readthedocs.io/en/stable/user_install.html\n",
      "  from .autonotebook import tqdm as notebook_tqdm\n"
     ]
    }
   ],
   "source": [
    "import re\n",
    "import string\n",
    "from tqdm.auto import tqdm\n",
    "from datasets import load_dataset # Assuming datasets are loadable this way\n",
    "from google import genai\n",
    "from sentence_transformers import SentenceTransformer, util"
   ]
  },
  {
   "cell_type": "code",
   "execution_count": null,
   "metadata": {},
   "outputs": [],
   "source": [
    "mkdir checkpoint/"
   ]
  },
  {
   "cell_type": "code",
   "execution_count": 8,
   "metadata": {},
   "outputs": [],
   "source": [
    "# Load Sentence Transformer model for semantic similarity\n",
    "similarity_model = SentenceTransformer('all-MiniLM-L6-v2')\n",
    "\n",
    "# Initialize Gemini Translator\n",
    "\n",
    "client = genai.Client(api_key=\"api_key\")\n",
    "\n",
    "def get_prompt(processed_cand_cm_romanized, matrix_lang_code):\n",
    "    pmt = f\"\"\"I will give you a text in {matrix_lang_code} and english below:-\n",
    "------------------------\n",
    "{processed_cand_cm_romanized}\n",
    "------------------------\n",
    "you have to follow these steps below to translate the text into english.\n",
    "1. First translate the sentence exactly into non roman {matrix_lang_code} representation of characters.\n",
    "2. Now translate the sentence into its english translation and remember it as SE.\n",
    "3. Now for the sentences that are english words and are common in both the SE in step 2 and the original text, POS tag them.\n",
    "4. Now remembering the POS tags of words, translate the original sentence into {matrix_lang_code} remembering the meaning of POS words and cross-language homonyms.\n",
    "5. Now translate the final {matrix_lang_code} sentence in step 4 to its english translation.\n",
    "\n",
    "Only give me the translated sentence in step 5 as your response in this template below so that i can extract the sentence using regular expression\n",
    "*****Final Translated Sentence*****\n",
    "[put the final sentence from step 5.]\n",
    "*****End*****\n",
    "\"\"\"\n",
    "    return pmt\n",
    "\n",
    "model_name = \"gemini-2.0-flash-lite\""
   ]
  },
  {
   "cell_type": "code",
   "execution_count": 9,
   "metadata": {},
   "outputs": [],
   "source": [
    "import os\n",
    "import re\n",
    "import time\n",
    "import string\n",
    "import pandas as pd\n",
    "from tqdm import tqdm\n",
    "from concurrent.futures import ThreadPoolExecutor, as_completed\n",
    "from datasets import load_dataset, Dataset\n",
    "from sentence_transformers import util\n",
    "\n",
    "# --- Configuration for Checkpoint and Rate Limiting ---\n",
    "ONE_MINUTE = 60\n",
    "BATCH_SIZE = 15\n",
    "CHECKPOINT_FILE = \"checkpoint/game_scores_checkpoint.parquet\"\n",
    "ERROR_LOG_FILE = \"checkpoint/game_error_log.txt\"\n",
    "\n",
    "# Define similarity model, model_name, and client before using this code\n",
    "\n",
    "# --- Utility Functions ---\n",
    "def preprocess(text):\n",
    "    if not isinstance(text, str):\n",
    "        return \"\"\n",
    "    code_block_pattern = r'```.*?```'\n",
    "    text = re.sub(code_block_pattern, '', text, flags=re.DOTALL)\n",
    "    text = text.lower()\n",
    "    text = text.translate(str.maketrans('', '', string.punctuation))\n",
    "    return re.sub(r'\\s+', ' ', text).strip()\n",
    "\n",
    "def extract_translated_sentence(text):\n",
    "    pattern = r\"\\*{5}Final Translated Sentence\\*{5}\\s*(.*?)\\s*\\*{5}End\\*{5}\"\n",
    "    match = re.search(pattern, text, re.DOTALL)\n",
    "    return match.group(1).strip() if match else None\n",
    "\n",
    "def get_semantic_similarity(text1, text2):\n",
    "    if not text1 or not text2:\n",
    "        return 0.0\n",
    "    try:\n",
    "        emb1 = similarity_model.encode(text1, convert_to_tensor=True, normalize_embeddings=True)\n",
    "        emb2 = similarity_model.encode(text2, convert_to_tensor=True, normalize_embeddings=True)\n",
    "        sim = util.pytorch_cos_sim(emb1, emb2)\n",
    "        return max(-1.0, min(1.0, sim.item()))\n",
    "    except Exception as e:\n",
    "        print(f\"Similarity Calculation Error: {e}\")\n",
    "        return 0.0\n",
    "\n",
    "class GAME:\n",
    "    def __init__(self, matrix_lang_code='hindi'):\n",
    "        self.matrix_lang_code = matrix_lang_code\n",
    "\n",
    "    def evaluate(self, reference_en, candidate_cm_romanized):\n",
    "        try:\n",
    "            processed_ref = preprocess(reference_en)\n",
    "            processed_cand = preprocess(candidate_cm_romanized)\n",
    "            if not processed_ref or not processed_cand:\n",
    "                return 0.0\n",
    "\n",
    "            response = client.models.generate_content(\n",
    "                model=model_name, contents=get_prompt(processed_cand, self.matrix_lang_code)\n",
    "            )\n",
    "            reconstructed = extract_translated_sentence(response.text)\n",
    "            if not reconstructed:\n",
    "                return 0.0\n",
    "\n",
    "            sim_score = get_semantic_similarity(processed_ref, reconstructed)\n",
    "            return max(0.0, sim_score) * 100\n",
    "\n",
    "        except Exception as e:\n",
    "            return 0.0\n",
    "\n",
    "def log_error(entry, msg):\n",
    "    # with open(ERROR_LOG_FILE, \"a\", encoding=\"utf-8\") as f:\n",
    "    #     f.write(json.dumps({\"error\": msg, \"entry\": entry}, ensure_ascii=False) + \"\\n\")\n",
    "    print({\"error\": msg, \"entry\": entry})\n",
    "\n",
    "# --- Main Execution with Checkpoint and Rate Limiting ---\n",
    "def compare_datasets_with_checkpointing(dataset_en_path, dataset_cm_path, matrix_lang, split='train'):\n",
    "    ds_en = load_dataset(dataset_en_path, split=\"v0.1.4\")\n",
    "    \n",
    "    ds_cm = pd.read_parquet(dataset_cm_path)\n",
    "\n",
    "    if os.path.exists(CHECKPOINT_FILE):\n",
    "        checkpoint_df = pd.read_parquet(CHECKPOINT_FILE)\n",
    "        processed_indices = set(checkpoint_df['index'])\n",
    "    else:\n",
    "        checkpoint_df = pd.DataFrame(columns=['index', 'score'])\n",
    "        processed_indices = set()\n",
    "\n",
    "    all_scores = []\n",
    "    failed = 0\n",
    "    game = GAME(matrix_lang)\n",
    "\n",
    "    indices = [i for i in range(len(ds_cm)) if i not in processed_indices]\n",
    "    progress_bar = tqdm(total=len(indices), desc=\"Processing Entries\")\n",
    "    elapsed_times = []\n",
    "\n",
    "    for i in range(0, len(indices), BATCH_SIZE):\n",
    "        batch_indices = indices[i:i+BATCH_SIZE]\n",
    "        start_time = time.time()\n",
    "\n",
    "        with ThreadPoolExecutor(max_workers=BATCH_SIZE) as executor:\n",
    "            futures = {\n",
    "                executor.submit(\n",
    "                    game.evaluate,\n",
    "                    ds_en[j]['instruct_prompt'],\n",
    "                    \n",
    "                    ds_cm.iloc[j]['instruct_prompt']\n",
    "                ): j for j in batch_indices\n",
    "            }\n",
    "\n",
    "            for future in as_completed(futures):\n",
    "                j = futures[future]\n",
    "                try:\n",
    "                    score = future.result()\n",
    "                    all_scores.append(score)\n",
    "                    checkpoint_df.loc[len(checkpoint_df)] = {'index': j, 'score': score}\n",
    "                    checkpoint_df.to_parquet(CHECKPOINT_FILE, index=False)\n",
    "                    progress_bar.update(1)\n",
    "                except Exception as e:\n",
    "                    log_error({'index': j}, f\"Evaluation Error: {e}\")\n",
    "                    failed += 1\n",
    "\n",
    "        # Enforce rate limiting\n",
    "        elapsed = time.time() - start_time\n",
    "        sleep_time = max(0, ONE_MINUTE - elapsed)\n",
    "        if sleep_time > 0:\n",
    "            print(f\"Waiting {sleep_time:.2f} seconds before next batch...\")\n",
    "            time.sleep(sleep_time)\n",
    "\n",
    "    progress_bar.close()\n",
    "    avg_score = sum(all_scores) / len(all_scores) if all_scores else 0.0\n",
    "\n",
    "    print(\"\\n--- Evaluation Complete ---\")\n",
    "    print(f\"Matrix Language: {matrix_lang}\")\n",
    "    print(f\"Entries processed: {len(all_scores)}\")\n",
    "    print(f\"Failed evaluations: {failed}\")\n",
    "    print(f\"Average GAME Score: {avg_score:.2f}\")\n",
    "\n",
    "    return all_scores, avg_score, failed"
   ]
  },
  {
   "cell_type": "code",
   "execution_count": 48,
   "metadata": {},
   "outputs": [
    {
     "name": "stderr",
     "output_type": "stream",
     "text": [
      "Processing Entries: 100%|██████████| 1/1 [00:00<00:00,  1.61it/s]"
     ]
    },
    {
     "name": "stdout",
     "output_type": "stream",
     "text": [
      "Waiting 59.38 seconds before next batch...\n"
     ]
    },
    {
     "name": "stderr",
     "output_type": "stream",
     "text": [
      "Processing Entries: 100%|██████████| 1/1 [01:00<00:00, 60.00s/it]"
     ]
    },
    {
     "name": "stdout",
     "output_type": "stream",
     "text": [
      "\n",
      "--- Evaluation Complete ---\n",
      "Matrix Language: Spanish\n",
      "Entries processed: 1\n",
      "Failed evaluations: 0\n",
      "Average GAME Score: 0.00\n"
     ]
    },
    {
     "name": "stderr",
     "output_type": "stream",
     "text": [
      "\n"
     ]
    }
   ],
   "source": [
    "# # --- Configuration ---\n",
    "# Using the specified HF dataset names\n",
    "ENGLISH_DATASET_PATH = \"bigcode/bigcodebench\"\n",
    "CODE_MIXED_DATASET_PATH = \"../dataset/spa-eng/MBigCodeBench-spa-eng-cmd0.6.parquet\"\n",
    "MATRIX_LANGUAGE = \"Spanish\" \n",
    "DATASET_SPLIT = 'train' \n",
    "\n",
    "\n",
    "try:\n",
    "     game_scores, avg_score, failed_score = compare_datasets_with_checkpointing(\n",
    "         ENGLISH_DATASET_PATH,\n",
    "         CODE_MIXED_DATASET_PATH,\n",
    "         matrix_lang=MATRIX_LANGUAGE,\n",
    "         split=DATASET_SPLIT,\n",
    "     )\n",
    "     # print(\"\\nIndividual Scores:\", scores) # Uncomment to see all scores\n",
    "except FileNotFoundError:\n",
    "     print(\"\\nError: One or both datasets could not be loaded from Hugging Face Hub.\")\n",
    "     print(\"Please ensure the dataset identifiers and your internet connection are correct.\")\n",
    "except ValueError as ve:\n",
    "     print(f\"\\nValueError during dataset loading or processing: {ve}\")\n",
    "     print(\"This might indicate an issue with the dataset structure, split name, or configuration name.\")\n",
    "except Exception as e:\n",
    "     print(f\"\\nAn unexpected error occurred: {e}\")\n",
    "     # Optionally add more detailed error logging here\n",
    "     import traceback\n",
    "     traceback.print_exc()"
   ]
  },
  {
   "cell_type": "code",
   "execution_count": 49,
   "metadata": {},
   "outputs": [
    {
     "name": "stdout",
     "output_type": "stream",
     "text": [
      "\n",
      "--- Evaluation Summary ---\n",
      "Matrix Language: Spanish\n",
      "Number of entries processed: 1\n",
      "Number of failed/skipped evaluations: 0\n",
      "Average GAME Score (over all processed): 0.00\n"
     ]
    },
    {
     "data": {
      "image/png": "[encoded data removed]",
      "text/plain": [
       "<Figure size 1000x500 with 1 Axes>"
      ]
     },
     "metadata": {},
     "output_type": "display_data"
    }
   ],
   "source": [
    "print(\"\\n--- Evaluation Summary ---\")\n",
    "print(f\"Matrix Language: Spanish\")\n",
    "print(f\"Number of entries processed: {len(game_scores)}\")\n",
    "print(f\"Number of failed/skipped evaluations: {failed_score}\")\n",
    "print(f\"Average GAME Score (over all processed): {avg_score:.2f}\")\n",
    "\n",
    "\n",
    "try:\n",
    "    import matplotlib.pyplot as plt\n",
    "    import numpy as np\n",
    "    plt.figure(figsize=(10, 5))\n",
    "    plt.hist(np.array(game_scores), bins=20, range=(0, 100)) # Ensure scores are within 0-100 range for plot\n",
    "    plt.title(f\"Distribution of GAME Scores (Matrix Lang: Spanish)\")\n",
    "    plt.xlabel(\"GAME Score (0-100)\")\n",
    "    plt.ylabel(\"Frequency\")\n",
    "    plt.grid(axis='y', alpha=0.75)\n",
    "    plt.show()\n",
    "except ImportError:\n",
    "    print(\"\\nInstall matplotlib to see the score distribution plot: pip install matplotlib numpy\")"
   ]
  },
  {
   "cell_type": "code",
   "execution_count": 50,
   "metadata": {},
   "outputs": [
    {
     "name": "stdout",
     "output_type": "stream",
     "text": [
      "   index      score\n",
      "0     11  92.431027\n"
     ]
    }
   ],
   "source": [
    "df = pd.read_parquet(CHECKPOINT_FILE)\n",
    "print(df.head(1))"
   ]
  },
  {
   "cell_type": "code",
   "execution_count": 45,
   "metadata": {},
   "outputs": [
    {
     "name": "stdout",
     "output_type": "stream",
     "text": [
      "\n",
      "--- Evaluation Summary ---\n",
      "Matrix Language: Spanish\n",
      "Number of entries processed: 1140\n",
      "Number of failed/skipped evaluations: 1\n",
      "Average GAME Score (over all processed): 90.13\n"
     ]
    },
    {
     "data": {
      "image/png": "[encoded data removed]",
      "text/plain": [
       "<Figure size 1000x500 with 1 Axes>"
      ]
     },
     "metadata": {},
     "output_type": "display_data"
    }
   ],
   "source": [
    "# Calculate values\n",
    "total_entries = len(df)\n",
    "failed_score = (df[\"score\"] == 0).sum()\n",
    "processed_scores = df[df[\"score\"] > 0][\"score\"]\n",
    "avg_score = processed_scores.mean()\n",
    "\n",
    "# Print summary\n",
    "print(\"\\n--- Evaluation Summary ---\")\n",
    "print(f\"Matrix Language: Spanish\")\n",
    "print(f\"Number of entries processed: {total_entries}\")\n",
    "print(f\"Number of failed/skipped evaluations: {failed_score}\")\n",
    "print(f\"Average GAME Score (over all processed): {avg_score:.2f}\")\n",
    "\n",
    "# Plot distribution\n",
    "plt.figure(figsize=(10, 5))\n",
    "plt.hist(processed_scores, bins=20, range=(0, 100))\n",
    "plt.title(f\"Distribution of GAME Scores (Matrix Lang: Spanish)\")\n",
    "plt.xlabel(\"GAME Score (0-100)\")\n",
    "plt.ylabel(\"Frequency\")\n",
    "plt.grid(axis='y', alpha=0.75)\n",
    "plt.show()\n"
   ]
  },
  {
   "cell_type": "code",
   "execution_count": 46,
   "metadata": {},
   "outputs": [
    {
     "data": {
      "text/plain": [
       "1139"
      ]
     },
     "execution_count": 46,
     "metadata": {},
     "output_type": "execute_result"
    }
   ],
   "source": [
    "df = df[df['score'] != 0]\n",
    "len(df)"
   ]
  },
  {
   "cell_type": "code",
   "execution_count": 47,
   "metadata": {},
   "outputs": [],
   "source": [
    "df.to_parquet(CHECKPOINT_FILE)"
   ]
  }
 ],
 "metadata": {
  "language_info": {
   "name": "python"
  }
 },
 "nbformat": 4,
 "nbformat_minor": 2
}
